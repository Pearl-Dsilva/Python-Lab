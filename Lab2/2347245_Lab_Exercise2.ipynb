{
 "cells": [
  {
   "cell_type": "markdown",
   "metadata": {},
   "source": [
    "LIST\n",
    "·                 Create a LIST with your domain attributes, insert the elements using the append (), insert(), extend() and add any iterables (tuples, sets, dictionaries etc.) to the list (Use all the methods ).\n",
    "·                 Create a list with numeric and perform the following operations.\n",
    "·       Write a program to swap the first and last elements in a list.\n",
    "·       Write a program to find the sum of the digits in a list.\n",
    "·       Write a program to find the smallest element in a list."
   ]
  },
  {
   "cell_type": "code",
   "execution_count": null,
   "metadata": {},
   "outputs": [
    {
     "name": "stdout",
     "output_type": "stream",
     "text": [
      "['zoo_id', 'visitor_id', 'staff_id', 'faq_id', 'visitor_name']\n",
      "['zoo_name', 'zoo_id', 'visitor_id', 'staff_id', 'faq_id', 'visitor_name']\n",
      "['zoo_name', 'zoo_id', 'visitor_id', 'staff_id', 'faq_id', 'visitor_name', 'staff_dob', 'staff_name', 'staff_salary']\n",
      "['zoo_name', 'zoo_id', 'visitor_id', 'staff_id', 'faq_id', 'visitor_name', 'staff_dob', 'staff_name', 'staff_salary', {1: 'visitor_bill_id', 2: 'discount', 3: 'images'}]\n"
     ]
    }
   ],
   "source": [
    "zoo_list = [\"zoo_id\",\"visitor_id\",\"staff_id\",\"faq_id\"]\n",
    "zoo_list.append(\"visitor_name\")\n",
    "print(zoo_list)\n",
    "zoo_list.insert(0,\"zoo_name\")\n",
    "print(zoo_list)\n",
    "attribute_iter={'staff_dob','staff_salary','staff_name'}\n",
    "zoo_list.extend(attribute_iter)\n",
    "print(zoo_list)\n",
    "attribute_iter={1:'visitor_bill_id',2:'discount',3:'images'}\n",
    "zoo_list.extend(attribute_iter)\n",
    "print(zoo_list)"
   ]
  },
  {
   "cell_type": "code",
   "execution_count": null,
   "metadata": {},
   "outputs": [
    {
     "name": "stdout",
     "output_type": "stream",
     "text": [
      "Original list [1, 5, 6, 7, 8, 0, 2, 3]\n",
      "After swap: [3, 5, 6, 7, 8, 0, 2, 1]\n"
     ]
    }
   ],
   "source": [
    "#  Write a program to swap the first and last elements in a list.\n",
    "numericList=[1,5,6,7,8,0,2,3]\n",
    "print('Original list',numericList)\n",
    "temp = numericList[0] \n",
    "numericList[0] = numericList[-1]\n",
    "numericList[-1] = temp\n",
    "print('After swap:',numericList)\n"
   ]
  },
  {
   "cell_type": "code",
   "execution_count": null,
   "metadata": {},
   "outputs": [
    {
     "name": "stdout",
     "output_type": "stream",
     "text": [
      "Sum is: 32\n"
     ]
    }
   ],
   "source": [
    "# Write a program to find the sum of the digits in a list.\n",
    "numericList=[1,5,6,7,8,0,2,3]\n",
    "sumList = 0\n",
    "for numbers in numericList:\n",
    "    sumList = numbers + sumList\n",
    "print('Sum is:',sumList)"
   ]
  },
  {
   "cell_type": "code",
   "execution_count": null,
   "metadata": {},
   "outputs": [
    {
     "name": "stdout",
     "output_type": "stream",
     "text": [
      "Smallest is: 0\n"
     ]
    }
   ],
   "source": [
    "#   Write a program to find the smallest element in a list.\n",
    "numericList=[1,5,6,7,8,0,2,3]\n",
    "smallest = numericList[0]\n",
    "for numbers in numericList:\n",
    "    if numbers < smallest:\n",
    "        smallest = numbers\n",
    "print('Smallest is:',smallest)"
   ]
  },
  {
   "cell_type": "markdown",
   "metadata": {},
   "source": [
    "Sort the dictionaries in ascending order based on the Key of the dictionary.\n",
    "·                  1. Create the dictionary with Numeric as Value in Key – Value pair and find the sum of all the values in the Dictionary.\n",
    "·                  2. Write a Python code to demonstrate the sorting in descending order of values with lambda function."
   ]
  },
  {
   "cell_type": "code",
   "execution_count": null,
   "metadata": {},
   "outputs": [
    {
     "name": "stdout",
     "output_type": "stream",
     "text": [
      "Original dict: {3: 'visitor_bill_id', 2: 'discount', 1: 'images'}\n",
      "Sorted dict: {1: 'images', 2: 'discount', 3: 'visitor_bill_id'}\n"
     ]
    }
   ],
   "source": [
    "#Sort dictionary in ascending order\n",
    "zoo_dict = {3:'visitor_bill_id', 2:'discount', 1:'images'}\n",
    "print(\"Original dict:\",zoo_dict)\n",
    "sorted_zoo_dict = dict(sorted(zoo_dict.items()))\n",
    "print(\"Sorted dict:\",sorted_zoo_dict)"
   ]
  },
  {
   "cell_type": "code",
   "execution_count": null,
   "metadata": {},
   "outputs": [
    {
     "name": "stdout",
     "output_type": "stream",
     "text": [
      "Original dict: {'z': 12, 'o': 45, 'm': 0}\n",
      "Sum 57\n"
     ]
    }
   ],
   "source": [
    "#Create the dictionary with Numeric as Value in Key – Value pair and find the sum of all the values in the Dictionary.\n",
    "num_dict = {'z':12,'o':45, 'm':0}\n",
    "sum_dict = 0\n",
    "print(\"Original dict:\",num_dict)\n",
    "for values in num_dict.values():\n",
    "    sum_dict = sum_dict+values\n",
    "print('Sum',sum_dict)"
   ]
  },
  {
   "cell_type": "code",
   "execution_count": 5,
   "metadata": {},
   "outputs": [
    {
     "name": "stdout",
     "output_type": "stream",
     "text": [
      "[('m', 0), ('z', 12), ('o', 45)]\n"
     ]
    }
   ],
   "source": [
    "#Write a Python code to demonstrate the sorting in descending order of values with lambda function.\n",
    "num_dict = {'z':12,'o':45, 'm':0}\n",
    "sorted_zoo_dict = sorted(num_dict.items(),key=lambda x:x[1], reverse=False)\n",
    "\n",
    "print(sorted_zoo_dict)"
   ]
  }
 ],
 "metadata": {
  "kernelspec": {
   "display_name": "Python 3",
   "language": "python",
   "name": "python3"
  },
  "language_info": {
   "codemirror_mode": {
    "name": "ipython",
    "version": 3
   },
   "file_extension": ".py",
   "mimetype": "text/x-python",
   "name": "python",
   "nbconvert_exporter": "python",
   "pygments_lexer": "ipython3",
   "version": "3.7.9"
  },
  "orig_nbformat": 4
 },
 "nbformat": 4,
 "nbformat_minor": 2
}
