{
 "cells": [
  {
   "cell_type": "markdown",
   "metadata": {},
   "source": [
    "# Lab Exercise 5\n",
    "Q1. Write a program to handle the exception of ZeroDivisionError.\n"
   ]
  },
  {
   "cell_type": "code",
   "execution_count": 10,
   "metadata": {},
   "outputs": [
    {
     "name": "stdout",
     "output_type": "stream",
     "text": [
      "Program ot handle the exception of ZeroDivisionError\n",
      "dividend:  12\n",
      "divisor:  0\n",
      "Denominator cannot be 0.\n"
     ]
    }
   ],
   "source": [
    "print(\"Program ot handle the exception of ZeroDivisionError\")\n",
    "dividend = int(input(\"Enter a dividend\\t\"))\n",
    "print(\"dividend: \",dividend)\n",
    "divisor = int(input(\"Enter a divisor\\t\"))\n",
    "print(\"divisor: \",divisor)\n",
    "try:\n",
    "    output = dividend / divisor\n",
    "    print(\"Result: \",output)\n",
    "except ZeroDivisionError:\n",
    "    print(\"Denominator cannot be 0.\")\n"
   ]
  },
  {
   "cell_type": "markdown",
   "metadata": {},
   "source": [
    "Q2. Write a program to handle the exception of IndexError.\n",
    "[Handle the exceptions with ‘Try’, ‘Except’, ‘Finally’ and ‘Raise’ according to the requirements in the program.]\n"
   ]
  },
  {
   "cell_type": "code",
   "execution_count": 23,
   "metadata": {},
   "outputs": [
    {
     "name": "stdout",
     "output_type": "stream",
     "text": [
      "Index error has occured. check the number of elements in the list.\n"
     ]
    }
   ],
   "source": [
    "try:\n",
    "    animal_list = ['panda','bear','donkey','monkey','ox']\n",
    "    if (len(animal_list) > 5):\n",
    "        raise IndexError()\n",
    "    else:\n",
    "        print(animal_list[5])\n",
    "\n",
    "except IndexError:\n",
    "    print(\"Index error has occured. check the number of elements in the list.\")"
   ]
  }
 ],
 "metadata": {
  "kernelspec": {
   "display_name": "Python 3",
   "language": "python",
   "name": "python3"
  },
  "language_info": {
   "codemirror_mode": {
    "name": "ipython",
    "version": 3
   },
   "file_extension": ".py",
   "mimetype": "text/x-python",
   "name": "python",
   "nbconvert_exporter": "python",
   "pygments_lexer": "ipython3",
   "version": "3.7.9"
  },
  "orig_nbformat": 4
 },
 "nbformat": 4,
 "nbformat_minor": 2
}
