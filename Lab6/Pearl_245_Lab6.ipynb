{
 "cells": [
  {
   "cell_type": "markdown",
   "metadata": {},
   "source": [
    "# Lab Exercise 6\n",
    "Q1. Write a program using the Regular Exception and create a function that accepts a string and searches it for a valid phone number.\n",
    "Return the phone number if found.\n",
    "A valid phone number may be one of the following:\n",
    "(xxx)-xxx-xxxx\n",
    "xxx-xxx-xxxx\n",
    "\n"
   ]
  },
  {
   "cell_type": "code",
   "execution_count": 10,
   "metadata": {},
   "outputs": [
    {
     "name": "stdout",
     "output_type": "stream",
     "text": [
      "the mobile number is 988-674-3044\n",
      "988-674-3044\n",
      "the mobile number is (988)-674-3044\n",
      "(988)-674-3044\n"
     ]
    }
   ],
   "source": [
    "import re\n",
    "def find_mobile_no(text):\n",
    "    mobile = re.search(r\"(\\(\\d{3}\\)-\\d{3}-\\d{4}|\\d{3}-\\d{3}-\\d{4})\",text)\n",
    "    if mobile:\n",
    "        return(mobile.group())\n",
    "    return None\n",
    "\n",
    "\n",
    "text = \"the mobile number is 988-674-3044\"\n",
    "print(text)\n",
    "mobile = find_mobile_no(text)\n",
    "print(mobile)\n",
    "\n",
    "# the mobile number is (988)-674-3044\n",
    "text = input(\"Enter a text:\\t\")\n",
    "print(text)\n",
    "mobile = find_mobile_no(text) \n",
    "print(mobile)"
   ]
  },
  {
   "cell_type": "markdown",
   "metadata": {},
   "source": [
    "Q2. Write a function that employs regular expressions to ensure the password given to the function is strong.\n",
    "A strong password is defined as follows:\n",
    "·       at least eight characters long\n",
    "·       contains one uppercase character\n",
    "·       contains one lowercase character\n",
    "·       has at least one digit\n",
    "·       has at least one special character\n",
    "[For instance: Christ@123]"
   ]
  },
  {
   "cell_type": "code",
   "execution_count": 18,
   "metadata": {},
   "outputs": [
    {
     "name": "stdout",
     "output_type": "stream",
     "text": [
      "Chrit@123\n",
      "Strong Password!\n"
     ]
    }
   ],
   "source": [
    "import re\n",
    "def is_strong_password(pwd):\n",
    "    if len(pwd)<8:\n",
    "        return False\n",
    "    if not(re.search(r\"[a-z]\",pwd)):\n",
    "        return False\n",
    "    if not(re.search(r\"[A-Z]\",pwd)):\n",
    "        return False\n",
    "    if not(re.search(r\"\\d\",pwd)):\n",
    "        return False\n",
    "    if not(re.search(r\"[!@#$%^&*()-=,.<>/?;:'~_+]\",pwd)):\n",
    "        return False\n",
    "    return True\n",
    "\n",
    "# Chrit@123\n",
    "# chri\n",
    "text = input(\"Enter a password: \")\n",
    "print(text)\n",
    "output = is_strong_password(text)\n",
    "if(output):\n",
    "    print(\"Strong Password!\")\n",
    "else:\n",
    "    print(\"not strong Password, try again\")"
   ]
  }
 ],
 "metadata": {
  "kernelspec": {
   "display_name": "Python 3",
   "language": "python",
   "name": "python3"
  },
  "language_info": {
   "codemirror_mode": {
    "name": "ipython",
    "version": 3
   },
   "file_extension": ".py",
   "mimetype": "text/x-python",
   "name": "python",
   "nbconvert_exporter": "python",
   "pygments_lexer": "ipython3",
   "version": "3.7.9"
  },
  "orig_nbformat": 4
 },
 "nbformat": 4,
 "nbformat_minor": 2
}
