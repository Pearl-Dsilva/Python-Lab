{
 "cells": [
  {
   "cell_type": "markdown",
   "metadata": {},
   "source": [
    "Q1. Create two 3×3 matrices using the random function in Numpy and perform the following operations.  \n",
    "è Product (prod)  \n",
    "è Multiplication (multiply)  \n",
    "è Dot Product (dot)  \n"
   ]
  },
  {
   "cell_type": "code",
   "execution_count": 30,
   "metadata": {},
   "outputs": [
    {
     "name": "stdout",
     "output_type": "stream",
     "text": [
      "A:\n",
      "[[6 3 3]\n",
      " [2 0 4]\n",
      " [2 1 5]]\n",
      "B:\n",
      "[[2 7 7]\n",
      " [1 7 5]\n",
      " [7 3 8]]\n",
      "product *\n",
      "0\n",
      "multiplication\n",
      "[[12 21 21]\n",
      " [ 2  0 20]\n",
      " [14  3 40]]\n",
      "dot product\n",
      "[[36 72 81]\n",
      " [32 26 46]\n",
      " [40 36 59]]\n"
     ]
    }
   ],
   "source": [
    "import numpy as np\n",
    "A = np.random.randint(0,9,size=(3,3),dtype=int)\n",
    "B = np.random.randint(0,9,size=(3,3),dtype=int)\n",
    "print(\"A:\")\n",
    "print(A)\n",
    "print(\"B:\")\n",
    "print(B)\n",
    "print(\"product *\")\n",
    "# print(A*B)\n",
    "res = np.prod([A, B])\n",
    "print(res)\n",
    "print(\"multiplication\")\n",
    "print(np.multiply(A,B))\n",
    "print(\"dot product\")\n",
    "print(np.dot(A,B))"
   ]
  },
  {
   "cell_type": "markdown",
   "metadata": {},
   "source": [
    "Q2. Perform the following set operations using the Numpy functions.  \n",
    "è Union  \n",
    "è Intersection  \n",
    "è Set difference  \n",
    "è XOR  "
   ]
  },
  {
   "cell_type": "code",
   "execution_count": 22,
   "metadata": {},
   "outputs": [
    {
     "name": "stdout",
     "output_type": "stream",
     "text": [
      "[1 2 3 4] [3 4 5 6]\n",
      "Union:\n",
      "[1 2 3 4 5 6]\n",
      "Intersection:\n",
      "[3 4]\n",
      "Set Difference:\n",
      "[1 2]\n",
      "XOR:\n",
      "[1 2 5 6]\n"
     ]
    }
   ],
   "source": [
    "import numpy as np\n",
    "arr1 = np.array([1, 2, 3, 4])\n",
    "arr2 = np.array([3, 4, 5, 6])\n",
    "print(arr1,arr2)\n",
    "unionArr = np.union1d(arr1, arr2)\n",
    "print(\"Union:\")\n",
    "print(unionArr)\n",
    "intersectionArr = np.intersect1d(arr1, arr2, assume_unique=True)\n",
    "print(\"Intersection:\")\n",
    "print(intersectionArr)\n",
    "differenceArr = np.setdiff1d(arr1, arr2, assume_unique=True)\n",
    "print(\"Set Difference:\")\n",
    "print(differenceArr)\n",
    "xorArr = np.setxor1d(arr1, arr2, assume_unique=True)\n",
    "print(\"XOR:\")\n",
    "print(xorArr)"
   ]
  },
  {
   "cell_type": "markdown",
   "metadata": {},
   "source": [
    "Q3. Create a 1D array using Random function and perform the following operations.  \n",
    "è Cumulative sum  \n",
    "è Cumulative Product  \n",
    "è Discrete difference (with n=3)  \n",
    "è Find the unique elements from the array  "
   ]
  },
  {
   "cell_type": "code",
   "execution_count": 41,
   "metadata": {},
   "outputs": [
    {
     "name": "stdout",
     "output_type": "stream",
     "text": [
      "[2 4 7 6 4]\n",
      "Cumulative Sum\n",
      "[ 2  6 13 19 23]\n",
      "Cumulative Product\n",
      "[   2    8   56  336 1344]\n",
      "Discrete difference\n",
      "[ 2  3 -1 -2]\n",
      "Unique elements from the array\n",
      "[2 4 6 7]\n"
     ]
    }
   ],
   "source": [
    "import numpy as np\n",
    "arr1 = np.random.randint(0,9,size=(5),dtype=int)\n",
    "print(arr1)\n",
    "\n",
    "\n",
    "print(\"Cumulative Sum\")\n",
    "cumsumArr = np.cumsum(arr1)\n",
    "print(cumsumArr)\n",
    "\n",
    "print(\"Cumulative Product\")\n",
    "cumpdtArr = np.cumprod(arr1)\n",
    "print(cumpdtArr)\n",
    "\n",
    "print(\"Discrete difference\")\n",
    "difArr = np.diff(arr1)\n",
    "print(difArr)\n",
    "\n",
    "print(\"Unique elements from the array\")\n",
    "uniqueArr = np.unique(arr1)\n",
    "print(uniqueArr)\n",
    "\n"
   ]
  },
  {
   "cell_type": "markdown",
   "metadata": {},
   "source": [
    "Q4. Create two 1D array and perform the Addition using zip(), add() and user defined function (frompyfunc())"
   ]
  },
  {
   "cell_type": "code",
   "execution_count": 55,
   "metadata": {},
   "outputs": [
    {
     "name": "stdout",
     "output_type": "stream",
     "text": [
      "[0 6 4 5 1 0 4 5 1 0]\n",
      "[1 3 6 4 8 3 6 5 5 8]\n",
      "Using zip()\n",
      "[1, 9, 10, 9, 9, 3, 10, 10, 6, 8]\n",
      "Using add()\n",
      "[ 1  9 10  9  9  3 10 10  6  8]\n",
      "Using frompyfunc()\n",
      "[1 9 10 9 9 3 10 10 6 8]\n"
     ]
    }
   ],
   "source": [
    "import numpy as np\n",
    "arr1 = np.random.randint(0,9,size=(10),dtype=int)\n",
    "print(arr1)\n",
    "arr2 = np.random.randint(0,9,size=(10),dtype=int)\n",
    "print(arr2)\n",
    "\n",
    "print(\"Using zip()\")\n",
    "zipArr = [x+y for x,y in zip(arr1,arr2)]\n",
    "print(zipArr)\n",
    "\n",
    "print(\"Using add()\")\n",
    "addArr = np.add(arr1,arr2)\n",
    "print(addArr)\n",
    "\n",
    "\n",
    "print(\"Using frompyfunc()\")\n",
    "def addUsingFun(x, y):\n",
    "  return x+y\n",
    "addUsingFun = np.frompyfunc(addUsingFun, 2, 1)\n",
    "print(addUsingFun(arr1,arr2))\n",
    "\n"
   ]
  },
  {
   "cell_type": "markdown",
   "metadata": {},
   "source": [
    "Q5. Find the LCM (Least Common Multiple) and GCD (Greatest Common Divisor) of an array of elements using reduce()."
   ]
  },
  {
   "cell_type": "code",
   "execution_count": 45,
   "metadata": {},
   "outputs": [
    {
     "name": "stdout",
     "output_type": "stream",
     "text": [
      "[4 2 1 7 3]\n",
      "GCD:  1\n",
      "LCM:  12\n"
     ]
    }
   ],
   "source": [
    "import numpy as np\n",
    "arr = np.random.randint(0,9,size=(5),dtype=int)\n",
    "print(arr1)\n",
    "\n",
    "gcdArr = np.gcd.reduce(arr)\n",
    "print(\"GCD: \",gcdArr)\n",
    "\n",
    "lcmArr = np.lcm.reduce(arr)\n",
    "print(\"LCM: \",lcmArr)\n",
    "\n"
   ]
  }
 ],
 "metadata": {
  "kernelspec": {
   "display_name": "Python 3",
   "language": "python",
   "name": "python3"
  },
  "language_info": {
   "codemirror_mode": {
    "name": "ipython",
    "version": 3
   },
   "file_extension": ".py",
   "mimetype": "text/x-python",
   "name": "python",
   "nbconvert_exporter": "python",
   "pygments_lexer": "ipython3",
   "version": "3.7.9"
  },
  "orig_nbformat": 4
 },
 "nbformat": 4,
 "nbformat_minor": 2
}
